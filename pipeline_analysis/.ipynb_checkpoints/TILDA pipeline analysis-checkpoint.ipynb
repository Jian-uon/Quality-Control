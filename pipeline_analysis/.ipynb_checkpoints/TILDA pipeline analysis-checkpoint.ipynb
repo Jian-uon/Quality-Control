{
 "cells": [
  {
   "cell_type": "markdown",
   "metadata": {},
   "source": [
    "# BRC pipeline\n",
    "\n",
    "Cropping(optional):robustfov \n",
    "Brain extraction:bet\n",
    "Reduce FOV->T1:standard_space_roi\n",
    "Register to std(linear):flirt\n",
    "Register to std(non-linear):fnirt\n",
    "Brain extraction->T1_brain_mask\n",
    "Defaceing\n",
    "Bias-field correction->T1_brain_bias:fast\n",
    "Tissue segmentation->pve\n",
    "Subcortical segmentation:run_first_all "
   ]
  },
  {
   "cell_type": "markdown",
   "metadata": {},
   "source": [
    "# TILDA pipeline\n",
    "\n",
    "1. Add shift to fieldmap_mag1&fieldmap_mag1:fslmaths\n",
    "2. Brain extraction to fieldmaps to get a slightly smaller brain outline estimates: bet fieldmap_magshift2 fieldmap_mag_brain -f 0.6 -g -0.2\n",
    "3. Correct fieldmaps and obatin the difference between both then trun into radian(why multiply by 1000/5.32)\n",
    "4. Preprocess T1: fsl_anat\n",
    "5. asl_file\n",
    "6. Motion correction:mcflirt \n",
    "7. oxford_asl\n"
   ]
  },
  {
   "cell_type": "markdown",
   "metadata": {},
   "source": [
    "Question:\n",
    "1. When do we take adanvantage of the multi-band T1?\n",
    "2. The reason to shift fieldmap (Because of the calibration function y =a+bx, a: -3.141593, b: 0.001534)?"
   ]
  },
  {
   "cell_type": "code",
   "execution_count": null,
   "metadata": {},
   "outputs": [],
   "source": []
  }
 ],
 "metadata": {
  "kernelspec": {
   "display_name": "Python 3",
   "language": "python",
   "name": "python3"
  },
  "language_info": {
   "codemirror_mode": {
    "name": "ipython",
    "version": 3
   },
   "file_extension": ".py",
   "mimetype": "text/x-python",
   "name": "python",
   "nbconvert_exporter": "python",
   "pygments_lexer": "ipython3",
   "version": "3.7.6"
  }
 },
 "nbformat": 4,
 "nbformat_minor": 4
}
